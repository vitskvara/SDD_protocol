{
 "cells": [
  {
   "cell_type": "markdown",
   "metadata": {},
   "source": []
  },
  {
   "cell_type": "code",
   "execution_count": 1,
   "metadata": {
    "collapsed": true
   },
   "outputs": [],
   "source": [
    "using JLD\n",
    "using Convex, SCS # for optimization\n",
    "using ClobberingReload # for deprecation warnings supression"
   ]
  },
  {
   "cell_type": "code",
   "execution_count": 2,
   "metadata": {},
   "outputs": [
    {
     "data": {
      "text/plain": [
       "plot_statistics"
      ]
     },
     "execution_count": 2,
     "metadata": {},
     "output_type": "execute_result"
    }
   ],
   "source": [
    "# this contains some helper functions for MIL manipulation\n",
    "include(\"/home/vit/Dropbox/vyzkum/cisco/kod/lib/julia/VBMatrixFactorization/examples/mil_util.jl\")"
   ]
  },
  {
   "cell_type": "code",
   "execution_count": 3,
   "metadata": {
    "collapsed": true
   },
   "outputs": [],
   "source": [
    "abstract type kernel\n",
    "end"
   ]
  },
  {
   "cell_type": "code",
   "execution_count": null,
   "metadata": {
    "collapsed": true
   },
   "outputs": [],
   "source": [
    "struct quadkernel <: kernel\n",
    "    c # offset\n",
    "    km # kernel matrix"
   ]
  },
  {
   "cell_type": "code",
   "execution_count": 6,
   "metadata": {
    "collapsed": true
   },
   "outputs": [],
   "source": [
    "struct polykernel <: kernel\n",
    "    p # polynomial order\n",
    "    c # offset\n",
    "    x # the data\n",
    "    km # kernel matrix\n",
    "    ϕ # generating function\n",
    "end\n",
    "\n",
    "# abbreviated constructor\n",
    "polykernel(X::AbstractArray, p::Int, c = 0.0) = \n",
    "     polykernel(p, ones(size(X,1))*c, X, (X*X').^p, nothing)\n",
    "\n",
    "# overloaded for direct calling\n",
    "(pk::polykernel)(x) = (x'*x + c)^(pk.p)"
   ]
  },
  {
   "cell_type": "code",
   "execution_count": 5,
   "metadata": {},
   "outputs": [
    {
     "data": {
      "text/plain": [
       "polykernel(2, [0.0238552 0.29988 … 0.855878 0.301596; 0.851979 0.939919 … 0.929722 0.242266; 0.552347 0.137169 … 0.976116 0.76581], [2.1257 1.50628 2.70062; 1.50628 6.44282 3.05084; 2.70062 3.05084 5.59467], nothing)"
      ]
     },
     "execution_count": 5,
     "metadata": {},
     "output_type": "execute_result"
    }
   ],
   "source": [
    "X = rand(3,6)\n",
    "krnl = polykernel(X,2)"
   ]
  },
  {
   "cell_type": "code",
   "execution_count": 9,
   "metadata": {},
   "outputs": [
    {
     "data": {
      "text/plain": [
       "kernel_sh"
      ]
     },
     "execution_count": 9,
     "metadata": {},
     "output_type": "execute_result"
    }
   ],
   "source": [
    "# kernelized smallest hypersphere for anomaly detection\n",
    "mutable struct kernel_sh\n",
    "    k::kernel\n",
    "    α\n",
    "    r\n",
    "    D\n",
    "    c\n",
    "    opt\n",
    "end\n",
    "\n",
    "# constructor\n",
    "kernel_sh(k::kernel) = kernel_sh(k, Array{Float64,1}([]), NaN, NaN, NaN, false)"
   ]
  },
  {
   "cell_type": "code",
   "execution_count": 10,
   "metadata": {},
   "outputs": [
    {
     "data": {
      "text/plain": [
       "kernel_sh(polykernel(2, [0.0238552 0.29988 … 0.855878 0.301596; 0.851979 0.939919 … 0.929722 0.242266; 0.552347 0.137169 … 0.976116 0.76581], [2.1257 1.50628 2.70062; 1.50628 6.44282 3.05084; 2.70062 3.05084 5.59467], nothing), Float64[], NaN, NaN, NaN, false)"
      ]
     },
     "execution_count": 10,
     "metadata": {},
     "output_type": "execute_result"
    }
   ],
   "source": [
    "ksh = kernel_sh(krnl)"
   ]
  },
  {
   "cell_type": "code",
   "execution_count": 11,
   "metadata": {},
   "outputs": [
    {
     "ename": "LoadError",
     "evalue": "\u001b[91msyntax: incomplete: \"function\" at In[11]:37 requires end\u001b[39m",
     "output_type": "error",
     "traceback": [
      "\u001b[91msyntax: incomplete: \"function\" at In[11]:37 requires end\u001b[39m",
      ""
     ]
    }
   ],
   "source": [
    "W(α,gm) = diag(gm)'*α - sum(gm.*(α*α'))\n",
    "W(ksh::kernel_sh) = W(ksh.α, ksh.k.gm)\n",
    "\n",
    "function find_sphere!(ksh::kernel_sh)\n",
    "    # this is the optimization part using Convex and SCS packages\n",
    "    # setup the variables, objective and constraints\n",
    "    n = size(ksh.k.gm,1)\n",
    "    α = Variable(n, Positive())\n",
    "    dgm = diag(ksh.k.gm)'\n",
    "    dg = ksh.k.gm\n",
    "    objective = dgm*α - quadform(α, dg)\n",
    "    constraints = [sum(α) == 1.0]\n",
    "    problem = maximize(objective, constraints) \n",
    "    # solve\n",
    "    no_warnings() do\n",
    "        solve!(problem)\n",
    "    end\n",
    "    # if succesfully solved, extract and round the optimal solution\n",
    "    if problem.status == :Optimal\n",
    "        ksh.α = round.(problem.solution.primal[1:n], 3)\n",
    "        ksh.opt = true\n",
    "    else\n",
    "        error(\"solution not found!\")\n",
    "    end\n",
    "    \n",
    "    # compute the radius\n",
    "    ksh.r = sqrt(W(ksh))\n",
    "    # compute D for the anomaly score function\n",
    "    ksh.D = ksh.α'*ksh.k.gm*ksh.α - ksh.r^2\n",
    "    # compute the center - but we don't really need this\n",
    "    # also, it may not be possible for some kernels\n",
    "    if !(ksh.k.ϕ == nothing)\n",
    "        ksh.c = ksh.α'*ksh.k.ϕ.(ksh.k.x)\n",
    "    end\n",
    "end\n",
    "\n",
    "function anomaly_score(ksh::kernel_sh, x)\n",
    "    return ksh.k\n",
    "end"
   ]
  },
  {
   "cell_type": "code",
   "execution_count": 23,
   "metadata": {
    "scrolled": false
   },
   "outputs": [
    {
     "name": "stdout",
     "output_type": "stream",
     "text": [
      "----------------------------------------------------------------------------\n",
      "\tSCS v1.2.6 - Splitting Conic Solver\n",
      "\t(c) Brendan O'Donoghue, Stanford University, 2012-2016\n",
      "----------------------------------------------------------------------------\n",
      "Lin-sys: sparse-direct, nnz in A = 24\n",
      "eps = 1.00e-04, alpha = 1.80, max_iters = 20000, normalize = 1, scale = 5.00\n",
      "Variables n = 6, constraints m = 13\n",
      "Cones:\tprimal zero / dual free vars: 2\n",
      "\tlinear vars: 4\n",
      "\tsoc vars: 7, soc blks: 2\n",
      "Setup time: 4.29e-05s\n",
      "----------------------------------------------------------------------------\n",
      " Iter | pri res | dua res | rel gap | pri obj | dua obj | kap/tau | time (s)\n",
      "----------------------------------------------------------------------------\n",
      "     0|      inf       inf      -nan      -inf       inf       inf  2.28e-05 \n",
      "   100| 1.34e-03  2.28e-02  1.92e-02 -8.82e-01 -9.36e-01  7.39e-17  6.60e-05 \n",
      "   200| 4.64e-05  6.51e-04  5.01e-04 -8.93e-01 -8.95e-01  7.35e-17  1.07e-04 \n",
      "   240| 1.49e-05  3.91e-05  4.08e-06 -8.93e-01 -8.93e-01  7.35e-17  1.24e-04 \n",
      "----------------------------------------------------------------------------\n",
      "Status: Solved\n",
      "Timing: Solve time: 1.26e-04s\n",
      "\tLin-sys: nnz in L factor: 49, avg solve time: 1.64e-07s\n",
      "\tCones: avg projection time: 5.54e-08s\n",
      "----------------------------------------------------------------------------\n",
      "Error metrics:\n",
      "dist(s, K) = 4.6461e-17, dist(y, K*) = 0.0000e+00, s'y/|s||y| = 5.6799e-17\n",
      "|Ax + s - b|_2 / (1 + |b|_2) = 1.4902e-05\n",
      "|A'y + c|_2 / (1 + |c|_2) = 3.9115e-05\n",
      "|c'x + b'y| / (1 + |c'x| + |b'y|) = 4.0787e-06\n",
      "----------------------------------------------------------------------------\n",
      "c'x = -0.8932, -b'y = -0.8932\n",
      "============================================================================\n"
     ]
    }
   ],
   "source": [
    "find_sphere!(ksh)"
   ]
  },
  {
   "cell_type": "code",
   "execution_count": 26,
   "metadata": {},
   "outputs": [
    {
     "data": {
      "text/plain": [
       "0.5168458726337386"
      ]
     },
     "execution_count": 26,
     "metadata": {},
     "output_type": "execute_result"
    }
   ],
   "source": [
    "ksh.D"
   ]
  }
 ],
 "metadata": {
  "kernelspec": {
   "display_name": "Julia 0.6.1",
   "language": "julia",
   "name": "julia-0.6"
  },
  "language_info": {
   "file_extension": ".jl",
   "mimetype": "application/julia",
   "name": "julia",
   "version": "0.6.1"
  }
 },
 "nbformat": 4,
 "nbformat_minor": 2
}
